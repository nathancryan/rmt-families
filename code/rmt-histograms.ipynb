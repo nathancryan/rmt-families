{
 "cells": [
  {
   "cell_type": "code",
   "execution_count": 1,
   "id": "703c74f9",
   "metadata": {},
   "outputs": [],
   "source": [
    "import matplotlib.pyplot as plt\n",
    "import pandas as pd\n",
    "from matplotlib.ticker import PercentFormatter \n",
    "import numpy as np"
   ]
  },
  {
   "cell_type": "markdown",
   "id": "47f33b78",
   "metadata": {},
   "source": [
    "## Eigenvalue distributions"
   ]
  },
  {
   "cell_type": "code",
   "execution_count": 2,
   "id": "85886d6f",
   "metadata": {},
   "outputs": [],
   "source": [
    "df1 = pd.read_csv(\"SO50_large.csv\",names=[\"angles\"])\n",
    "\n",
    "N = 20\n",
    "n_samples = 200000"
   ]
  },
  {
   "cell_type": "code",
   "execution_count": 3,
   "id": "a2d8a104",
   "metadata": {},
   "outputs": [],
   "source": [
    "df2 = pd.read_csv(\"U50_large.csv\", header=None)\n",
    "df2 = df2.drop([50],axis=1)"
   ]
  },
  {
   "cell_type": "code",
   "execution_count": 4,
   "id": "0f3e0833",
   "metadata": {},
   "outputs": [
    {
     "data": {
      "text/plain": [
       "Int64Index([ 0,  1,  2,  3,  4,  5,  6,  7,  8,  9, 10, 11, 12, 13, 14, 15, 16,\n",
       "            17, 18, 19, 20, 21, 22, 23, 24, 25, 26, 27, 28, 29, 30, 31, 32, 33,\n",
       "            34, 35, 36, 37, 38, 39, 40, 41, 42, 43, 44, 45, 46, 47, 48, 49],\n",
       "           dtype='int64')"
      ]
     },
     "execution_count": 4,
     "metadata": {},
     "output_type": "execute_result"
    }
   ],
   "source": [
    "df2.columns"
   ]
  },
  {
   "cell_type": "code",
   "execution_count": 5,
   "id": "c77498fe",
   "metadata": {},
   "outputs": [
    {
     "data": {
      "text/plain": [
       "0         -3.082305\n",
       "1         -3.015240\n",
       "2         -3.036453\n",
       "3         -3.052874\n",
       "4         -3.012323\n",
       "             ...   \n",
       "4999995    3.067010\n",
       "4999996    3.111400\n",
       "4999997    2.975315\n",
       "4999998    3.008811\n",
       "4999999    3.066136\n",
       "Length: 5000000, dtype: float64"
      ]
     },
     "execution_count": 5,
     "metadata": {},
     "output_type": "execute_result"
    }
   ],
   "source": [
    "df2 = pd.Series(df2.values.ravel('F'))\n",
    "df2"
   ]
  },
  {
   "cell_type": "code",
   "execution_count": 6,
   "id": "d5f80594",
   "metadata": {},
   "outputs": [],
   "source": [
    "df3 = pd.read_csv(\"Sp50_large.csv\",header=None)\n",
    "df3 = df3.drop([50],axis=1)\n",
    "df3 = pd.Series(df3.values.ravel('F'))"
   ]
  },
  {
   "cell_type": "code",
   "execution_count": null,
   "id": "931fceab",
   "metadata": {},
   "outputs": [],
   "source": []
  },
  {
   "cell_type": "code",
   "execution_count": 7,
   "id": "26339611",
   "metadata": {},
   "outputs": [
    {
     "data": {
      "image/png": "[encoded data removed]",
      "text/plain": [
       "<Figure size 432x288 with 3 Axes>"
      ]
     },
     "metadata": {
      "needs_background": "light"
     },
     "output_type": "display_data"
    }
   ],
   "source": [
    "fig, axs = plt.subplots(1, 3, tight_layout=True)\n",
    "\n",
    "n_bins=100\n",
    "\n",
    "dist1 = df1[\"angles\"]\n",
    "dist2 = df2\n",
    "dist3 = df3\n",
    "\n",
    "\n",
    "\n",
    "\n",
    "\n",
    "\n",
    "\n",
    "axs[0].hist(dist1, bins=n_bins, density=True)\n",
    "axs[1].hist(dist2, bins=n_bins, density=True)\n",
    "axs[2].hist(dist3, bins=n_bins, density=True)\n",
    "\n",
    "#t = np.arange(-np.pi, np.pi, .01)\n",
    "#s = (1 + np.sin( 8*np.pi * t) /16/np.pi / t)*(1/2/np.pi)\n",
    "#axs[0].plot(t,s, 'k-', linewidth=1.5, label='Theoretical')\n",
    "\n",
    "\n",
    "\n",
    "#t = np.arange(-np.pi, np.pi, .001)\n",
    "#s = 1/2/np.pi + (t-t)\n",
    "#axs[1].plot(t,s, 'k-', linewidth=1.5, label='Theoretical')\n",
    "\n",
    "#t = np.arange(-np.pi, np.pi, .01)\n",
    "#s = (1 - np.sin(8*np.pi * t) /14/np.pi / t)*(1/2/np.pi)\n",
    "#axs[2].plot(t,s, 'k-', linewidth=1.5, label='Theoretical')\n",
    "\n",
    "\n",
    "\n",
    "axs[0].set_xlabel('SO(50)')\n",
    "\n",
    "axs[1].set_xlabel('U(50)')\n",
    "\n",
    "axs[2].set_xlabel('USp(50)')\n",
    "\n",
    "axs[0].yaxis.set_major_formatter(PercentFormatter(xmax=1))\n",
    "axs[1].yaxis.set_major_formatter(PercentFormatter(xmax=1))\n",
    "axs[2].yaxis.set_major_formatter(PercentFormatter(xmax=1))\n",
    "\n",
    "#plt.show()\n",
    "\n",
    "plt.savefig(\"/home/ncr006/research/rmt-families/paper/images/distributions.png\")"
   ]
  },
  {
   "cell_type": "markdown",
   "id": "b6ccf637",
   "metadata": {},
   "source": [
    "## Lowest zeros vs lowest eigenangle"
   ]
  },
  {
   "cell_type": "code",
   "execution_count": 15,
   "id": "90ffc840",
   "metadata": {},
   "outputs": [],
   "source": [
    "# f is 3.8.a.a, weight 8 level 3 \n",
    "df_f_3_8 = pd.read_csv(\"exp1-good-twists.csv\",index_col=False)\n",
    "df_f_3_8 = df_f_3_8.drop([\"Unnamed: 0\",\"Good\"],axis=1)"
   ]
  },
  {
   "cell_type": "code",
   "execution_count": 16,
   "id": "bde91a98",
   "metadata": {},
   "outputs": [],
   "source": [
    "df_f_3_8[\"Normalized lowest zero\"] = df_f_3_8[\"Lowest positive zero\"]/np.mean(df_f_3_8[\"Lowest positive zero\"])"
   ]
  },
  {
   "cell_type": "code",
   "execution_count": 17,
   "id": "a564ea90",
   "metadata": {},
   "outputs": [
    {
     "data": {
      "text/html": [
       "<div>\n",
       "<style scoped>\n",
       "    .dataframe tbody tr th:only-of-type {\n",
       "        vertical-align: middle;\n",
       "    }\n",
       "\n",
       "    .dataframe tbody tr th {\n",
       "        vertical-align: top;\n",
       "    }\n",
       "\n",
       "    .dataframe thead th {\n",
       "        text-align: right;\n",
       "    }\n",
       "</style>\n",
       "<table border=\"1\" class=\"dataframe\">\n",
       "  <thead>\n",
       "    <tr style=\"text-align: right;\">\n",
       "      <th></th>\n",
       "      <th>Discriminant</th>\n",
       "      <th>Lowest zero</th>\n",
       "      <th>Second zero</th>\n",
       "      <th>Third zero</th>\n",
       "      <th>Lowest positive zero</th>\n",
       "      <th>Normalized lowest zero</th>\n",
       "    </tr>\n",
       "  </thead>\n",
       "  <tbody>\n",
       "    <tr>\n",
       "      <th>count</th>\n",
       "      <td>3402.000000</td>\n",
       "      <td>3402.000000</td>\n",
       "      <td>3402.000000</td>\n",
       "      <td>3402.000000</td>\n",
       "      <td>3402.000000</td>\n",
       "      <td>3402.000000</td>\n",
       "    </tr>\n",
       "    <tr>\n",
       "      <th>mean</th>\n",
       "      <td>20021.590829</td>\n",
       "      <td>0.112146</td>\n",
       "      <td>0.451771</td>\n",
       "      <td>0.791799</td>\n",
       "      <td>0.112146</td>\n",
       "      <td>1.000000</td>\n",
       "    </tr>\n",
       "    <tr>\n",
       "      <th>std</th>\n",
       "      <td>11515.471882</td>\n",
       "      <td>0.082634</td>\n",
       "      <td>0.119768</td>\n",
       "      <td>0.148040</td>\n",
       "      <td>0.082634</td>\n",
       "      <td>0.736845</td>\n",
       "    </tr>\n",
       "    <tr>\n",
       "      <th>min</th>\n",
       "      <td>13.000000</td>\n",
       "      <td>0.000022</td>\n",
       "      <td>0.126450</td>\n",
       "      <td>0.445596</td>\n",
       "      <td>0.000022</td>\n",
       "      <td>0.000193</td>\n",
       "    </tr>\n",
       "    <tr>\n",
       "      <th>25%</th>\n",
       "      <td>10021.750000</td>\n",
       "      <td>0.045783</td>\n",
       "      <td>0.370840</td>\n",
       "      <td>0.696541</td>\n",
       "      <td>0.045783</td>\n",
       "      <td>0.408241</td>\n",
       "    </tr>\n",
       "    <tr>\n",
       "      <th>50%</th>\n",
       "      <td>20006.500000</td>\n",
       "      <td>0.097181</td>\n",
       "      <td>0.444860</td>\n",
       "      <td>0.775273</td>\n",
       "      <td>0.097181</td>\n",
       "      <td>0.866553</td>\n",
       "    </tr>\n",
       "    <tr>\n",
       "      <th>75%</th>\n",
       "      <td>29986.000000</td>\n",
       "      <td>0.162758</td>\n",
       "      <td>0.522277</td>\n",
       "      <td>0.863801</td>\n",
       "      <td>0.162758</td>\n",
       "      <td>1.451306</td>\n",
       "    </tr>\n",
       "    <tr>\n",
       "      <th>max</th>\n",
       "      <td>39997.000000</td>\n",
       "      <td>0.588775</td>\n",
       "      <td>1.312649</td>\n",
       "      <td>3.228124</td>\n",
       "      <td>0.588775</td>\n",
       "      <td>5.250071</td>\n",
       "    </tr>\n",
       "  </tbody>\n",
       "</table>\n",
       "</div>"
      ],
      "text/plain": [
       "       Discriminant  Lowest zero  Second zero   Third zero  \\\n",
       "count   3402.000000  3402.000000  3402.000000  3402.000000   \n",
       "mean   20021.590829     0.112146     0.451771     0.791799   \n",
       "std    11515.471882     0.082634     0.119768     0.148040   \n",
       "min       13.000000     0.000022     0.126450     0.445596   \n",
       "25%    10021.750000     0.045783     0.370840     0.696541   \n",
       "50%    20006.500000     0.097181     0.444860     0.775273   \n",
       "75%    29986.000000     0.162758     0.522277     0.863801   \n",
       "max    39997.000000     0.588775     1.312649     3.228124   \n",
       "\n",
       "       Lowest positive zero  Normalized lowest zero  \n",
       "count           3402.000000             3402.000000  \n",
       "mean               0.112146                1.000000  \n",
       "std                0.082634                0.736845  \n",
       "min                0.000022                0.000193  \n",
       "25%                0.045783                0.408241  \n",
       "50%                0.097181                0.866553  \n",
       "75%                0.162758                1.451306  \n",
       "max                0.588775                5.250071  "
      ]
     },
     "execution_count": 17,
     "metadata": {},
     "output_type": "execute_result"
    }
   ],
   "source": [
    "df_f_3_8.describe()"
   ]
  },
  {
   "cell_type": "code",
   "execution_count": 18,
   "id": "16be03c7",
   "metadata": {},
   "outputs": [],
   "source": [
    "dfO = pd.read_csv(\"exp1-all-evs.csv\")\n",
    "dfO = dfO.drop([\"Unnamed: 0\"],axis=1)"
   ]
  },
  {
   "cell_type": "code",
   "execution_count": 19,
   "id": "12ff2134",
   "metadata": {},
   "outputs": [],
   "source": [
    "dfO[\"Normalized lowest eigenvalue\"] = dfO[\"ev1\"]/np.mean(dfO[\"ev1\"])"
   ]
  },
  {
   "cell_type": "code",
   "execution_count": 20,
   "id": "fa068f41",
   "metadata": {},
   "outputs": [
    {
     "data": {
      "text/html": [
       "<div>\n",
       "<style scoped>\n",
       "    .dataframe tbody tr th:only-of-type {\n",
       "        vertical-align: middle;\n",
       "    }\n",
       "\n",
       "    .dataframe tbody tr th {\n",
       "        vertical-align: top;\n",
       "    }\n",
       "\n",
       "    .dataframe thead th {\n",
       "        text-align: right;\n",
       "    }\n",
       "</style>\n",
       "<table border=\"1\" class=\"dataframe\">\n",
       "  <thead>\n",
       "    <tr style=\"text-align: right;\">\n",
       "      <th></th>\n",
       "      <th>N</th>\n",
       "      <th>ev1</th>\n",
       "      <th>Normalized lowest eigenvalue</th>\n",
       "    </tr>\n",
       "  </thead>\n",
       "  <tbody>\n",
       "    <tr>\n",
       "      <th>count</th>\n",
       "      <td>455000.000000</td>\n",
       "      <td>4.550000e+05</td>\n",
       "      <td>455000.000000</td>\n",
       "    </tr>\n",
       "    <tr>\n",
       "      <th>mean</th>\n",
       "      <td>16.599560</td>\n",
       "      <td>1.100636e-01</td>\n",
       "      <td>1.000000</td>\n",
       "    </tr>\n",
       "    <tr>\n",
       "      <th>std</th>\n",
       "      <td>1.998925</td>\n",
       "      <td>8.064338e-02</td>\n",
       "      <td>0.732698</td>\n",
       "    </tr>\n",
       "    <tr>\n",
       "      <th>min</th>\n",
       "      <td>2.000000</td>\n",
       "      <td>7.165481e-07</td>\n",
       "      <td>0.000007</td>\n",
       "    </tr>\n",
       "    <tr>\n",
       "      <th>25%</th>\n",
       "      <td>16.000000</td>\n",
       "      <td>4.870766e-02</td>\n",
       "      <td>0.442541</td>\n",
       "    </tr>\n",
       "    <tr>\n",
       "      <th>50%</th>\n",
       "      <td>18.000000</td>\n",
       "      <td>9.831376e-02</td>\n",
       "      <td>0.893245</td>\n",
       "    </tr>\n",
       "    <tr>\n",
       "      <th>75%</th>\n",
       "      <td>18.000000</td>\n",
       "      <td>1.566272e-01</td>\n",
       "      <td>1.423061</td>\n",
       "    </tr>\n",
       "    <tr>\n",
       "      <th>max</th>\n",
       "      <td>18.000000</td>\n",
       "      <td>3.059592e+00</td>\n",
       "      <td>27.798398</td>\n",
       "    </tr>\n",
       "  </tbody>\n",
       "</table>\n",
       "</div>"
      ],
      "text/plain": [
       "                   N           ev1  Normalized lowest eigenvalue\n",
       "count  455000.000000  4.550000e+05                 455000.000000\n",
       "mean       16.599560  1.100636e-01                      1.000000\n",
       "std         1.998925  8.064338e-02                      0.732698\n",
       "min         2.000000  7.165481e-07                      0.000007\n",
       "25%        16.000000  4.870766e-02                      0.442541\n",
       "50%        18.000000  9.831376e-02                      0.893245\n",
       "75%        18.000000  1.566272e-01                      1.423061\n",
       "max        18.000000  3.059592e+00                     27.798398"
      ]
     },
     "execution_count": 20,
     "metadata": {},
     "output_type": "execute_result"
    }
   ],
   "source": [
    "dfO.describe()"
   ]
  },
  {
   "cell_type": "code",
   "execution_count": 31,
   "id": "197b293d",
   "metadata": {},
   "outputs": [
    {
     "data": {
      "image/png": "[encoded data removed]",
      "text/plain": [
       "<Figure size 432x288 with 2 Axes>"
      ]
     },
     "metadata": {
      "needs_background": "light"
     },
     "output_type": "display_data"
    }
   ],
   "source": [
    "fig, axs = plt.subplots(2, 1, tight_layout=True)\n",
    "\n",
    "n_bins=10\n",
    "\n",
    "dist1 = df_f_3_8[\"Normalized lowest zero\"]\n",
    "dist2 = dfO[\"Normalized lowest eigenvalue\"]\n",
    "\n",
    "\n",
    "axs[0].hist(dist1, bins=n_bins, density=True)\n",
    "axs[1].hist(dist2, bins=n_bins*10, density=True)\n",
    "\n",
    "axs[0].set_xlabel('Lowest positive zero')\n",
    "\n",
    "axs[1].set_xlabel('Lowest positive eigenvalue')\n",
    "\n",
    "axs[0].set_xlim(0,5)\n",
    "\n",
    "axs[1].set_xlim(0,5)\n",
    "\n",
    "plt.savefig(\"/home/ncr006/research/rmt-families/paper/images/exp1.png\")"
   ]
  },
  {
   "cell_type": "code",
   "execution_count": 10,
   "id": "2fb046a8",
   "metadata": {},
   "outputs": [],
   "source": [
    "# f is 13.2.e.a non self-dual but trivial character\n",
    "df_f_13_2 = pd.read_csv(\"exp3-good-twists.csv\",index_col=False)\n",
    "df_f_13_2 = df_f_13_2.drop([\"Unnamed: 0\",\"Good\"],axis=1)"
   ]
  },
  {
   "cell_type": "code",
   "execution_count": 11,
   "id": "cfc0c673",
   "metadata": {},
   "outputs": [],
   "source": [
    "df_f_13_2[\"Normalized lowest zero\"] = df_f_13_2[\"Lowest positive zero\"]/np.mean(df_f_13_2[\"Lowest positive zero\"])"
   ]
  },
  {
   "cell_type": "code",
   "execution_count": 12,
   "id": "7913cf82",
   "metadata": {},
   "outputs": [
    {
     "data": {
      "text/html": [
       "<div>\n",
       "<style scoped>\n",
       "    .dataframe tbody tr th:only-of-type {\n",
       "        vertical-align: middle;\n",
       "    }\n",
       "\n",
       "    .dataframe tbody tr th {\n",
       "        vertical-align: top;\n",
       "    }\n",
       "\n",
       "    .dataframe thead th {\n",
       "        text-align: right;\n",
       "    }\n",
       "</style>\n",
       "<table border=\"1\" class=\"dataframe\">\n",
       "  <thead>\n",
       "    <tr style=\"text-align: right;\">\n",
       "      <th></th>\n",
       "      <th>Discriminant</th>\n",
       "      <th>Lowest zero</th>\n",
       "      <th>Second zero</th>\n",
       "      <th>Third zero</th>\n",
       "      <th>Lowest positive zero</th>\n",
       "      <th>Normalized lowest zero</th>\n",
       "    </tr>\n",
       "  </thead>\n",
       "  <tbody>\n",
       "    <tr>\n",
       "      <th>count</th>\n",
       "      <td>929.000000</td>\n",
       "      <td>929.000000</td>\n",
       "      <td>929.000000</td>\n",
       "      <td>929.000000</td>\n",
       "      <td>929.000000</td>\n",
       "      <td>929.000000</td>\n",
       "    </tr>\n",
       "    <tr>\n",
       "      <th>mean</th>\n",
       "      <td>20041.707212</td>\n",
       "      <td>0.209067</td>\n",
       "      <td>0.551996</td>\n",
       "      <td>0.884486</td>\n",
       "      <td>0.209067</td>\n",
       "      <td>1.000000</td>\n",
       "    </tr>\n",
       "    <tr>\n",
       "      <th>std</th>\n",
       "      <td>11511.358457</td>\n",
       "      <td>0.159784</td>\n",
       "      <td>0.183197</td>\n",
       "      <td>0.201295</td>\n",
       "      <td>0.159784</td>\n",
       "      <td>0.764272</td>\n",
       "    </tr>\n",
       "    <tr>\n",
       "      <th>min</th>\n",
       "      <td>33.000000</td>\n",
       "      <td>0.001360</td>\n",
       "      <td>0.063242</td>\n",
       "      <td>0.315280</td>\n",
       "      <td>0.001360</td>\n",
       "      <td>0.006503</td>\n",
       "    </tr>\n",
       "    <tr>\n",
       "      <th>25%</th>\n",
       "      <td>10264.000000</td>\n",
       "      <td>0.089585</td>\n",
       "      <td>0.423707</td>\n",
       "      <td>0.742311</td>\n",
       "      <td>0.089585</td>\n",
       "      <td>0.428499</td>\n",
       "    </tr>\n",
       "    <tr>\n",
       "      <th>50%</th>\n",
       "      <td>20092.000000</td>\n",
       "      <td>0.167986</td>\n",
       "      <td>0.512503</td>\n",
       "      <td>0.836829</td>\n",
       "      <td>0.167986</td>\n",
       "      <td>0.803506</td>\n",
       "    </tr>\n",
       "    <tr>\n",
       "      <th>75%</th>\n",
       "      <td>29881.000000</td>\n",
       "      <td>0.276730</td>\n",
       "      <td>0.648503</td>\n",
       "      <td>0.992121</td>\n",
       "      <td>0.276730</td>\n",
       "      <td>1.323644</td>\n",
       "    </tr>\n",
       "    <tr>\n",
       "      <th>max</th>\n",
       "      <td>39917.000000</td>\n",
       "      <td>0.846856</td>\n",
       "      <td>1.387400</td>\n",
       "      <td>1.945682</td>\n",
       "      <td>0.846856</td>\n",
       "      <td>4.050649</td>\n",
       "    </tr>\n",
       "  </tbody>\n",
       "</table>\n",
       "</div>"
      ],
      "text/plain": [
       "       Discriminant  Lowest zero  Second zero  Third zero  \\\n",
       "count    929.000000   929.000000   929.000000  929.000000   \n",
       "mean   20041.707212     0.209067     0.551996    0.884486   \n",
       "std    11511.358457     0.159784     0.183197    0.201295   \n",
       "min       33.000000     0.001360     0.063242    0.315280   \n",
       "25%    10264.000000     0.089585     0.423707    0.742311   \n",
       "50%    20092.000000     0.167986     0.512503    0.836829   \n",
       "75%    29881.000000     0.276730     0.648503    0.992121   \n",
       "max    39917.000000     0.846856     1.387400    1.945682   \n",
       "\n",
       "       Lowest positive zero  Normalized lowest zero  \n",
       "count            929.000000              929.000000  \n",
       "mean               0.209067                1.000000  \n",
       "std                0.159784                0.764272  \n",
       "min                0.001360                0.006503  \n",
       "25%                0.089585                0.428499  \n",
       "50%                0.167986                0.803506  \n",
       "75%                0.276730                1.323644  \n",
       "max                0.846856                4.050649  "
      ]
     },
     "execution_count": 12,
     "metadata": {},
     "output_type": "execute_result"
    }
   ],
   "source": [
    "df_f_13_2.describe()"
   ]
  },
  {
   "cell_type": "code",
   "execution_count": 13,
   "id": "9cb7618d",
   "metadata": {},
   "outputs": [],
   "source": [
    "dfU = pd.read_csv(\"exp3-all-evs.csv\")\n",
    "dfU = dfU.drop([\"Unnamed: 0\"],axis=1)\n",
    "dfU[\"Normalized lowest eigenvalue\"] = dfU[\"ev1\"]/np.mean(dfU[\"ev1\"])\n"
   ]
  },
  {
   "cell_type": "code",
   "execution_count": 33,
   "id": "6300fcea",
   "metadata": {},
   "outputs": [
    {
     "data": {
      "image/png": "[encoded data removed]",
      "text/plain": [
       "<Figure size 432x288 with 2 Axes>"
      ]
     },
     "metadata": {
      "needs_background": "light"
     },
     "output_type": "display_data"
    }
   ],
   "source": [
    "fig, axs = plt.subplots(2, 1, tight_layout=True)\n",
    "\n",
    "n_bins=10\n",
    "\n",
    "dist1 = df_f_13_2[\"Normalized lowest zero\"]\n",
    "dist2 = dfU[\"Normalized lowest eigenvalue\"]\n",
    "\n",
    "\n",
    "axs[0].hist(dist1, bins=n_bins, density=True)\n",
    "axs[1].hist(dist2, bins=n_bins, density=True)\n",
    "\n",
    "axs[0].set_xlabel('Lowest positive zero')\n",
    "\n",
    "axs[1].set_xlabel('Lowest positive eigenvalue')\n",
    "\n",
    "axs[0].set_xlim(0,5)\n",
    "\n",
    "axs[1].set_xlim(0,5)\n",
    "\n",
    "plt.savefig(\"/home/ncr006/research/rmt-families/paper/images/exp3.png\")"
   ]
  },
  {
   "cell_type": "code",
   "execution_count": 22,
   "id": "cfb063b1",
   "metadata": {},
   "outputs": [],
   "source": [
    "# f is 7.3.b.a weight 3 level 7, self-dual but nontrivial character\n",
    "df_f_7_3 = pd.read_csv(\"exp2-good-twists.csv\",index_col=False)\n",
    "df_f_7_3 = df_f_7_3.drop([\"Unnamed: 0\",\"Good\"],axis=1)"
   ]
  },
  {
   "cell_type": "code",
   "execution_count": 23,
   "id": "f89b3228",
   "metadata": {},
   "outputs": [],
   "source": [
    "df_f_7_3[\"Normalized lowest zero\"] = df_f_7_3[\"Lowest positive zero\"]/np.mean(df_f_7_3[\"Lowest positive zero\"])"
   ]
  },
  {
   "cell_type": "code",
   "execution_count": 24,
   "id": "132a4ab8",
   "metadata": {},
   "outputs": [
    {
     "data": {
      "text/html": [
       "<div>\n",
       "<style scoped>\n",
       "    .dataframe tbody tr th:only-of-type {\n",
       "        vertical-align: middle;\n",
       "    }\n",
       "\n",
       "    .dataframe tbody tr th {\n",
       "        vertical-align: top;\n",
       "    }\n",
       "\n",
       "    .dataframe thead th {\n",
       "        text-align: right;\n",
       "    }\n",
       "</style>\n",
       "<table border=\"1\" class=\"dataframe\">\n",
       "  <thead>\n",
       "    <tr style=\"text-align: right;\">\n",
       "      <th></th>\n",
       "      <th>Discriminant</th>\n",
       "      <th>Lowest zero</th>\n",
       "      <th>Second zero</th>\n",
       "      <th>Third zero</th>\n",
       "      <th>Lowest positive zero</th>\n",
       "      <th>Normalized lowest zero</th>\n",
       "    </tr>\n",
       "  </thead>\n",
       "  <tbody>\n",
       "    <tr>\n",
       "      <th>count</th>\n",
       "      <td>5314.000000</td>\n",
       "      <td>5314.000000</td>\n",
       "      <td>5314.000000</td>\n",
       "      <td>5314.000000</td>\n",
       "      <td>5314.000000</td>\n",
       "      <td>5314.000000</td>\n",
       "    </tr>\n",
       "    <tr>\n",
       "      <th>mean</th>\n",
       "      <td>20016.608581</td>\n",
       "      <td>0.222739</td>\n",
       "      <td>0.538359</td>\n",
       "      <td>0.884277</td>\n",
       "      <td>0.222739</td>\n",
       "      <td>1.000000</td>\n",
       "    </tr>\n",
       "    <tr>\n",
       "      <th>std</th>\n",
       "      <td>11540.674045</td>\n",
       "      <td>0.086968</td>\n",
       "      <td>0.118815</td>\n",
       "      <td>0.165152</td>\n",
       "      <td>0.086968</td>\n",
       "      <td>0.390449</td>\n",
       "    </tr>\n",
       "    <tr>\n",
       "      <th>min</th>\n",
       "      <td>29.000000</td>\n",
       "      <td>0.010538</td>\n",
       "      <td>0.245657</td>\n",
       "      <td>0.554063</td>\n",
       "      <td>0.010538</td>\n",
       "      <td>0.047312</td>\n",
       "    </tr>\n",
       "    <tr>\n",
       "      <th>25%</th>\n",
       "      <td>10006.750000</td>\n",
       "      <td>0.159235</td>\n",
       "      <td>0.466110</td>\n",
       "      <td>0.788829</td>\n",
       "      <td>0.159235</td>\n",
       "      <td>0.714895</td>\n",
       "    </tr>\n",
       "    <tr>\n",
       "      <th>50%</th>\n",
       "      <td>20026.000000</td>\n",
       "      <td>0.217307</td>\n",
       "      <td>0.528928</td>\n",
       "      <td>0.855020</td>\n",
       "      <td>0.217307</td>\n",
       "      <td>0.975614</td>\n",
       "    </tr>\n",
       "    <tr>\n",
       "      <th>75%</th>\n",
       "      <td>29991.250000</td>\n",
       "      <td>0.280148</td>\n",
       "      <td>0.596056</td>\n",
       "      <td>0.941306</td>\n",
       "      <td>0.280148</td>\n",
       "      <td>1.257739</td>\n",
       "    </tr>\n",
       "    <tr>\n",
       "      <th>max</th>\n",
       "      <td>39993.000000</td>\n",
       "      <td>0.781105</td>\n",
       "      <td>1.987205</td>\n",
       "      <td>3.033634</td>\n",
       "      <td>0.781105</td>\n",
       "      <td>3.506821</td>\n",
       "    </tr>\n",
       "  </tbody>\n",
       "</table>\n",
       "</div>"
      ],
      "text/plain": [
       "       Discriminant  Lowest zero  Second zero   Third zero  \\\n",
       "count   5314.000000  5314.000000  5314.000000  5314.000000   \n",
       "mean   20016.608581     0.222739     0.538359     0.884277   \n",
       "std    11540.674045     0.086968     0.118815     0.165152   \n",
       "min       29.000000     0.010538     0.245657     0.554063   \n",
       "25%    10006.750000     0.159235     0.466110     0.788829   \n",
       "50%    20026.000000     0.217307     0.528928     0.855020   \n",
       "75%    29991.250000     0.280148     0.596056     0.941306   \n",
       "max    39993.000000     0.781105     1.987205     3.033634   \n",
       "\n",
       "       Lowest positive zero  Normalized lowest zero  \n",
       "count           5314.000000             5314.000000  \n",
       "mean               0.222739                1.000000  \n",
       "std                0.086968                0.390449  \n",
       "min                0.010538                0.047312  \n",
       "25%                0.159235                0.714895  \n",
       "50%                0.217307                0.975614  \n",
       "75%                0.280148                1.257739  \n",
       "max                0.781105                3.506821  "
      ]
     },
     "execution_count": 24,
     "metadata": {},
     "output_type": "execute_result"
    }
   ],
   "source": [
    "df_f_7_3.describe()"
   ]
  },
  {
   "cell_type": "code",
   "execution_count": 27,
   "id": "da2c4bd7",
   "metadata": {},
   "outputs": [],
   "source": [
    "dfSp = pd.read_csv(\"exp2-all-evs.csv\")\n",
    "dfSp = dfSp.drop([\"Unnamed: 0\"],axis=1)\n",
    "dfSp[\"Normalized lowest eigenvalue\"] = dfSp[\"V1\"]/np.mean(dfSp[\"V1\"])\n"
   ]
  },
  {
   "cell_type": "code",
   "execution_count": 28,
   "id": "94deb578",
   "metadata": {},
   "outputs": [
    {
     "data": {
      "text/html": [
       "<div>\n",
       "<style scoped>\n",
       "    .dataframe tbody tr th:only-of-type {\n",
       "        vertical-align: middle;\n",
       "    }\n",
       "\n",
       "    .dataframe tbody tr th {\n",
       "        vertical-align: top;\n",
       "    }\n",
       "\n",
       "    .dataframe thead th {\n",
       "        text-align: right;\n",
       "    }\n",
       "</style>\n",
       "<table border=\"1\" class=\"dataframe\">\n",
       "  <thead>\n",
       "    <tr style=\"text-align: right;\">\n",
       "      <th></th>\n",
       "      <th>V1</th>\n",
       "      <th>Normalized lowest eigenvalue</th>\n",
       "    </tr>\n",
       "  </thead>\n",
       "  <tbody>\n",
       "    <tr>\n",
       "      <th>count</th>\n",
       "      <td>10000.000000</td>\n",
       "      <td>10000.000000</td>\n",
       "    </tr>\n",
       "    <tr>\n",
       "      <th>mean</th>\n",
       "      <td>0.327304</td>\n",
       "      <td>1.000000</td>\n",
       "    </tr>\n",
       "    <tr>\n",
       "      <th>std</th>\n",
       "      <td>0.135173</td>\n",
       "      <td>0.412989</td>\n",
       "    </tr>\n",
       "    <tr>\n",
       "      <th>min</th>\n",
       "      <td>0.022101</td>\n",
       "      <td>0.067523</td>\n",
       "    </tr>\n",
       "    <tr>\n",
       "      <th>25%</th>\n",
       "      <td>0.228511</td>\n",
       "      <td>0.698162</td>\n",
       "    </tr>\n",
       "    <tr>\n",
       "      <th>50%</th>\n",
       "      <td>0.316632</td>\n",
       "      <td>0.967395</td>\n",
       "    </tr>\n",
       "    <tr>\n",
       "      <th>75%</th>\n",
       "      <td>0.415496</td>\n",
       "      <td>1.269451</td>\n",
       "    </tr>\n",
       "    <tr>\n",
       "      <th>max</th>\n",
       "      <td>0.901053</td>\n",
       "      <td>2.752955</td>\n",
       "    </tr>\n",
       "  </tbody>\n",
       "</table>\n",
       "</div>"
      ],
      "text/plain": [
       "                 V1  Normalized lowest eigenvalue\n",
       "count  10000.000000                  10000.000000\n",
       "mean       0.327304                      1.000000\n",
       "std        0.135173                      0.412989\n",
       "min        0.022101                      0.067523\n",
       "25%        0.228511                      0.698162\n",
       "50%        0.316632                      0.967395\n",
       "75%        0.415496                      1.269451\n",
       "max        0.901053                      2.752955"
      ]
     },
     "execution_count": 28,
     "metadata": {},
     "output_type": "execute_result"
    }
   ],
   "source": [
    "dfSp.describe()"
   ]
  },
  {
   "cell_type": "code",
   "execution_count": 29,
   "id": "325494c7",
   "metadata": {},
   "outputs": [
    {
     "data": {
      "image/png": "[encoded data removed]",
      "text/plain": [
       "<Figure size 432x288 with 2 Axes>"
      ]
     },
     "metadata": {
      "needs_background": "light"
     },
     "output_type": "display_data"
    }
   ],
   "source": [
    "fig, axs = plt.subplots(2, 1, tight_layout=True)\n",
    "\n",
    "n_bins=10\n",
    "\n",
    "dist1 = df_f_7_3[\"Normalized lowest zero\"]\n",
    "dist2 = dfSp[\"Normalized lowest eigenvalue\"]\n",
    "\n",
    "\n",
    "axs[0].hist(dist1, bins=n_bins, density=True)\n",
    "axs[1].hist(dist2, bins=n_bins, density=True)\n",
    "\n",
    "axs[0].set_xlabel('Lowest positive zero')\n",
    "\n",
    "axs[1].set_xlabel('Lowest positive eigenvalue')\n",
    "\n",
    "axs[0].set_xlim(0,5)\n",
    "\n",
    "axs[1].set_xlim(0,5)\n",
    "\n",
    "plt.savefig(\"/home/ncr006/research/rmt-families/paper/images/exp2.png\")"
   ]
  },
  {
   "cell_type": "markdown",
   "id": "24463fa9",
   "metadata": {},
   "source": [
    "## Repulsion for larger D"
   ]
  },
  {
   "cell_type": "code",
   "execution_count": 37,
   "id": "7afe9ec8",
   "metadata": {},
   "outputs": [],
   "source": [
    "# f is 3.8.a.a, weight 8 level 3; orthogonal group\n",
    "df_f_3_8 = pd.read_csv(\"exp1-good-twists.csv\",index_col=False)\n",
    "df_f_3_8 = df_f_3_8.drop([\"Unnamed: 0\",\"Good\"],axis=1)\n",
    "df_f_3_8[\"Normalized lowest zero\"] = df_f_3_8[\"Lowest positive zero\"]/np.mean(df_f_3_8[\"Lowest positive zero\"])\n",
    "dfO = pd.read_csv(\"exp1-all-evs.csv\")\n",
    "dfO = dfO.drop([\"Unnamed: 0\"],axis=1)\n",
    "dfO[\"Normalized lowest eigenvalue\"] = dfO[\"ev1\"]/np.mean(dfO[\"ev1\"])\n"
   ]
  },
  {
   "cell_type": "code",
   "execution_count": 39,
   "id": "ca7d0501",
   "metadata": {},
   "outputs": [
    {
     "data": {
      "image/png": "[encoded data removed]",
      "text/plain": [
       "<Figure size 432x288 with 2 Axes>"
      ]
     },
     "metadata": {
      "needs_background": "light"
     },
     "output_type": "display_data"
    }
   ],
   "source": [
    "fig, axs = plt.subplots(2, 1, tight_layout=True)\n",
    "\n",
    "n_bins=10\n",
    "\n",
    "dist1 = df_f_3_8[df_f_3_8[\"Low\"]==True][\"Normalized lowest zero\"]\n",
    "dist2 = df_f_3_8[df_f_3_8[\"Low\"]==False][\"Normalized lowest zero\"]\n",
    "\n",
    "mean_dist1 = np.mean(dist1)\n",
    "mean_dist2 = np.mean(dist2)\n",
    "\n",
    "axs[0].hist(dist1, bins=n_bins, density=True)\n",
    "axs[1].hist(dist2, bins=n_bins, density=True)\n",
    "\n",
    "axs[0].set_xlabel('Lowest positive zero, small discriminant')\n",
    "\n",
    "axs[1].set_xlabel('Lowest positive zero, small discriminant')\n",
    "\n",
    "axs[0].set_xlim(0,5)\n",
    "\n",
    "axs[1].set_xlim(0,5)\n",
    "\n",
    "axs[0].axvline(mean_dist1, color='k', linestyle='dashed', linewidth=1)\n",
    "axs[1].axvline(mean_dist2, color='k', linestyle='dashed', linewidth=1)\n",
    "\n",
    "plt.savefig(\"/home/ncr006/research/rmt-families/paper/images/exp1-lo-hi.png\")"
   ]
  },
  {
   "cell_type": "code",
   "execution_count": 40,
   "id": "60d270c7",
   "metadata": {},
   "outputs": [],
   "source": [
    "# f is 13.2.e.a non self-dual but trivial character\n",
    "df_f_13_2 = pd.read_csv(\"exp3-good-twists.csv\",index_col=False)\n",
    "df_f_13_2 = df_f_13_2.drop([\"Unnamed: 0\",\"Good\"],axis=1)\n",
    "df_f_13_2[\"Normalized lowest zero\"] = df_f_13_2[\"Lowest positive zero\"]/np.mean(df_f_13_2[\"Lowest positive zero\"])\n",
    "dfU = pd.read_csv(\"exp3-all-evs.csv\")\n",
    "dfU = dfU.drop([\"Unnamed: 0\"],axis=1)\n",
    "dfU[\"Normalized lowest eigenvalue\"] = dfU[\"ev1\"]/np.mean(dfU[\"ev1\"])\n"
   ]
  },
  {
   "cell_type": "code",
   "execution_count": 41,
   "id": "0a9b27b1",
   "metadata": {},
   "outputs": [
    {
     "data": {
      "image/png": "[encoded data removed]",
      "text/plain": [
       "<Figure size 432x288 with 2 Axes>"
      ]
     },
     "metadata": {
      "needs_background": "light"
     },
     "output_type": "display_data"
    }
   ],
   "source": [
    "fig, axs = plt.subplots(2, 1, tight_layout=True)\n",
    "\n",
    "n_bins=10\n",
    "\n",
    "dist1 = df_f_13_2[df_f_13_2[\"Low\"]==True][\"Normalized lowest zero\"]\n",
    "dist2 = df_f_13_2[df_f_13_2[\"Low\"]==False][\"Normalized lowest zero\"]\n",
    "\n",
    "mean_dist1 = np.mean(dist1)\n",
    "mean_dist2 = np.mean(dist2)\n",
    "\n",
    "axs[0].hist(dist1, bins=n_bins, density=True)\n",
    "axs[1].hist(dist2, bins=n_bins, density=True)\n",
    "\n",
    "axs[0].set_xlabel('Lowest positive zero, small discriminant')\n",
    "\n",
    "axs[1].set_xlabel('Lowest positive zero, small discriminant')\n",
    "\n",
    "axs[0].set_xlim(0,5)\n",
    "\n",
    "axs[1].set_xlim(0,5)\n",
    "\n",
    "axs[0].axvline(mean_dist1, color='k', linestyle='dashed', linewidth=1)\n",
    "axs[1].axvline(mean_dist2, color='k', linestyle='dashed', linewidth=1)\n",
    "\n",
    "plt.savefig(\"/home/ncr006/research/rmt-families/paper/images/exp3-lo-hi.png\")"
   ]
  },
  {
   "cell_type": "code",
   "execution_count": 42,
   "id": "e9aa1fcf",
   "metadata": {},
   "outputs": [],
   "source": [
    "# f is 7.3.b.a weight 3 level 7, self-dual but nontrivial character\n",
    "df_f_7_3 = pd.read_csv(\"exp2-good-twists.csv\",index_col=False)\n",
    "df_f_7_3 = df_f_7_3.drop([\"Unnamed: 0\",\"Good\"],axis=1)\n",
    "df_f_7_3[\"Normalized lowest zero\"] = df_f_7_3[\"Lowest positive zero\"]/np.mean(df_f_7_3[\"Lowest positive zero\"])\n",
    "dfSp = pd.read_csv(\"exp2-all-evs.csv\")\n",
    "dfSp = dfSp.drop([\"Unnamed: 0\"],axis=1)\n",
    "dfSp[\"Normalized lowest eigenvalue\"] = dfSp[\"V1\"]/np.mean(dfSp[\"V1\"])"
   ]
  },
  {
   "cell_type": "code",
   "execution_count": 44,
   "id": "4e1ab639",
   "metadata": {},
   "outputs": [
    {
     "data": {
      "image/png": "[encoded data removed]",
      "text/plain": [
       "<Figure size 432x288 with 2 Axes>"
      ]
     },
     "metadata": {
      "needs_background": "light"
     },
     "output_type": "display_data"
    }
   ],
   "source": [
    "fig, axs = plt.subplots(2, 1, tight_layout=True)\n",
    "\n",
    "n_bins=10\n",
    "\n",
    "dist1 = df_f_7_3[df_f_7_3[\"Low\"]==True][\"Normalized lowest zero\"]\n",
    "dist2 = df_f_7_3[df_f_7_3[\"Low\"]==False][\"Normalized lowest zero\"]\n",
    "\n",
    "mean_dist1 = np.mean(dist1)\n",
    "mean_dist2 = np.mean(dist2)\n",
    "\n",
    "axs[0].hist(dist1, bins=n_bins, density=True)\n",
    "axs[1].hist(dist2, bins=n_bins, density=True)\n",
    "\n",
    "axs[0].set_xlabel('Lowest positive zero, small discriminant')\n",
    "\n",
    "axs[1].set_xlabel('Lowest positive zero, small discriminant')\n",
    "\n",
    "axs[0].set_xlim(0,5)\n",
    "\n",
    "axs[1].set_xlim(0,5)\n",
    "\n",
    "axs[0].axvline(mean_dist1, color='k', linestyle='dashed', linewidth=1)\n",
    "axs[1].axvline(mean_dist2, color='k', linestyle='dashed', linewidth=1)\n",
    "\n",
    "plt.savefig(\"/home/ncr006/research/rmt-families/paper/images/exp2-lo-hi.png\")"
   ]
  },
  {
   "cell_type": "code",
   "execution_count": null,
   "id": "f2e34d2d",
   "metadata": {},
   "outputs": [],
   "source": []
  }
 ],
 "metadata": {
  "kernelspec": {
   "display_name": "Python 3 (ipykernel)",
   "language": "python",
   "name": "python3"
  },
  "language_info": {
   "codemirror_mode": {
    "name": "ipython",
    "version": 3
   },
   "file_extension": ".py",
   "mimetype": "text/x-python",
   "name": "python",
   "nbconvert_exporter": "python",
   "pygments_lexer": "ipython3",
   "version": "3.8.12"
  }
 },
 "nbformat": 4,
 "nbformat_minor": 5
}

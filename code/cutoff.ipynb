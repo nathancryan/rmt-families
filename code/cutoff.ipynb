{
 "cells": [
  {
   "cell_type": "code",
   "execution_count": 10,
   "id": "efa0dfce",
   "metadata": {},
   "outputs": [],
   "source": [
    "import matplotlib.pyplot as plt\n",
    "import pandas as pd\n",
    "from matplotlib.ticker import PercentFormatter \n",
    "import numpy as np\n",
    "from scipy.stats import special_ortho_group\n",
    "import numpy.linalg as LA"
   ]
  },
  {
   "cell_type": "code",
   "execution_count": 11,
   "id": "826fa85a",
   "metadata": {},
   "outputs": [],
   "source": [
    "def random_so_char_poly(nn, cutoff, sample=100):\n",
    "    ret = []\n",
    "    ct = 0\n",
    "    while ct <  sample:\n",
    "        m = special_ortho_group.rvs(dim=nn)\n",
    "        ss = abs(sum(np.poly(m)))\n",
    "        if ss > cutoff:\n",
    "            ee = np.angle(LA.eigvals(m))\n",
    "            ret.append( min([i for i in ee if i > 0]))\n",
    "            ct = ct + 1\n",
    "    return ret\n",
    "            \n",
    "\n",
    "            "
   ]
  },
  {
   "cell_type": "code",
   "execution_count": null,
   "id": "ae19f27c",
   "metadata": {},
   "outputs": [],
   "source": []
  },
  {
   "cell_type": "code",
   "execution_count": 12,
   "id": "017303a9",
   "metadata": {},
   "outputs": [],
   "source": [
    "# generates list of eigenvalues above some cutoff.  Used for baseline, with cutoff = 0\n",
    "def random_so_evals(nn,cutoff,sample=10000, seed=42):\n",
    "    ret = []\n",
    "    for _ in range(sample):\n",
    "        m = special_ortho_group.rvs(dim=nn)\n",
    "        ee = np.angle(LA.eigvals(m))-cutoff  # looking for the smallest angle above the cutoff\n",
    "        ret.append(min([i for i in ee if i > 0]))\n",
    "    return ret\n",
    "    \n",
    "    "
   ]
  },
  {
   "cell_type": "code",
   "execution_count": 13,
   "id": "95c4b796",
   "metadata": {},
   "outputs": [],
   "source": [
    "ss = random_so_evals(24, 0, sample=10000)\n",
    "df_angles_no_cutoff = pd.DataFrame(ss, columns=['angles'])\n",
    "df_angles_no_cutoff[\"Normalized lowest eigenvalue\"] = df_angles_no_cutoff[\"angles\"]/np.mean(df_angles_no_cutoff[\"angles\"])"
   ]
  },
  {
   "cell_type": "markdown",
   "id": "9e379ed4",
   "metadata": {},
   "source": [
    "## 11.2"
   ]
  },
  {
   "cell_type": "code",
   "execution_count": 14,
   "id": "485b84bb",
   "metadata": {},
   "outputs": [],
   "source": [
    "c_std = 1.6\n",
    "N_std = 12\n",
    "k = 2\n",
    "cutoff = c_std*np.exp((1-k)*N_std/2)"
   ]
  },
  {
   "cell_type": "code",
   "execution_count": 15,
   "id": "7dfae5c0",
   "metadata": {},
   "outputs": [],
   "source": [
    "ss = random_so_char_poly(24,cutoff, sample=10000 )\n",
    "df_angles = pd.DataFrame(ss, columns=['angles'])\n",
    "df_angles[\"Normalized lowest eigenvalue\"] = df_angles[\"angles\"]/np.mean(df_angles[\"angles\"])"
   ]
  },
  {
   "cell_type": "code",
   "execution_count": 16,
   "id": "3dbd151c",
   "metadata": {},
   "outputs": [],
   "source": [
    "df_zeros = pd.read_csv(\"../data/experiment_11.2.out\", names=['disc','zero_1','zero_2'], index_col=False)\n",
    "df_zeros = df_zeros.loc[df_zeros[\"zero_1\"] > 0 ]\n",
    "df_zeros[\"Normalized lowest first zero\"] = df_zeros[\"zero_1\"]/np.mean(df_zeros[\"zero_1\"])"
   ]
  },
  {
   "cell_type": "code",
   "execution_count": 17,
   "id": "67e932e2",
   "metadata": {},
   "outputs": [
    {
     "data": {
      "image/png": "[encoded data removed]",
      "text/plain": [
       "<Figure size 432x288 with 3 Axes>"
      ]
     },
     "metadata": {
      "needs_background": "light"
     },
     "output_type": "display_data"
    }
   ],
   "source": [
    "fig, axs = plt.subplots(3, 1, tight_layout=True)\n",
    "\n",
    "n_bins=20\n",
    "\n",
    "dist1 = df_zeros[\"Normalized lowest first zero\"]\n",
    "dist2 = df_angles[\"Normalized lowest eigenvalue\"]\n",
    "dist3 = df_angles_no_cutoff[\"Normalized lowest eigenvalue\"]\n",
    "\n",
    "axs[0].hist(dist1, bins=n_bins*4, density=True)\n",
    "axs[1].hist(dist2, bins=n_bins, density=True)\n",
    "axs[2].hist(dist3, bins=n_bins, density=True)\n",
    "\n",
    "\n",
    "axs[0].set_xlabel('Lowest positive zero')\n",
    "axs[1].set_xlabel('Lowest positive eigenvalue above cutoff')\n",
    "axs[2].set_xlabel('Lowest positive eigenvalue without cutoff')\n",
    "\n",
    "\n",
    "axs[0].set_xlim(0,5)\n",
    "axs[1].set_xlim(0,5)\n",
    "axs[2].set_xlim(0,5)\n",
    "\n",
    "\n",
    "plt.savefig(\"/home/ncr006/research/rmt-families/paper/images/cutoff_11_2.png\")"
   ]
  },
  {
   "cell_type": "markdown",
   "id": "605ae535",
   "metadata": {},
   "source": [
    "# 7.4"
   ]
  },
  {
   "cell_type": "code",
   "execution_count": 77,
   "id": "24919c40",
   "metadata": {},
   "outputs": [],
   "source": [
    "c_std = 26000\n",
    "N_std = 12\n",
    "k = 4\n",
    "cutoff = c_std*np.exp((1-k)*N_std/2)"
   ]
  },
  {
   "cell_type": "code",
   "execution_count": 78,
   "id": "9ea29fe5",
   "metadata": {},
   "outputs": [],
   "source": [
    "ss = random_so_char_poly(24,cutoff, sample=10000 )\n",
    "df_angles = pd.DataFrame(ss, columns=['angles'])\n",
    "df_angles[\"Normalized lowest eigenvalue\"] = df_angles[\"angles\"]/np.mean(df_angles[\"angles\"])"
   ]
  },
  {
   "cell_type": "code",
   "execution_count": 79,
   "id": "72109c35",
   "metadata": {},
   "outputs": [],
   "source": [
    "df_zeros = pd.read_csv(\"../data/experiment_7.4.out\", names=['disc','zero_1','zero_2'], index_col=False)\n",
    "\n",
    "def format_to_float(xx):\n",
    "    xx = xx.replace(\" \",\"\")\n",
    "    return float(xx)\n",
    "\n",
    "df_zeros[\"zero_1\"] = df_zeros[\"zero_1\"].apply(format_to_float)\n",
    "\n",
    "df_zeros = df_zeros.loc[df_zeros[\"zero_1\"] > 0 ]\n",
    "df_zeros[\"Normalized lowest first zero\"] = df_zeros[\"zero_1\"]/np.mean(df_zeros[\"zero_1\"])"
   ]
  },
  {
   "cell_type": "code",
   "execution_count": 80,
   "id": "6f2f75a0",
   "metadata": {},
   "outputs": [
    {
     "data": {
      "image/png": "[encoded data removed]",
      "text/plain": [
       "<Figure size 432x288 with 3 Axes>"
      ]
     },
     "metadata": {
      "needs_background": "light"
     },
     "output_type": "display_data"
    }
   ],
   "source": [
    "fig, axs = plt.subplots(3, 1, tight_layout=True)\n",
    "\n",
    "n_bins=20\n",
    "\n",
    "dist1 = df_zeros[\"Normalized lowest first zero\"]\n",
    "dist2 = df_angles[\"Normalized lowest eigenvalue\"]\n",
    "dist3 = df_angles_no_cutoff[\"Normalized lowest eigenvalue\"]\n",
    "\n",
    "axs[0].hist(dist1, bins=n_bins*10, density=True)\n",
    "axs[1].hist(dist2, bins=n_bins, density=True)\n",
    "axs[2].hist(dist3, bins=n_bins, density=True)\n",
    "\n",
    "\n",
    "axs[0].set_xlabel('Lowest positive zero')\n",
    "axs[1].set_xlabel('Lowest positive eigenvalue above cutoff')\n",
    "axs[2].set_xlabel('Lowest positive eigenvalue without cutoff')\n",
    "\n",
    "\n",
    "axs[0].set_xlim(0,5)\n",
    "axs[1].set_xlim(0,5)\n",
    "axs[2].set_xlim(0,5)\n",
    "\n",
    "\n",
    "plt.savefig(\"/home/ncr006/research/rmt-families/paper/images/cutoff_7_4.png\")"
   ]
  },
  {
   "cell_type": "markdown",
   "id": "bbc7616f",
   "metadata": {},
   "source": [
    "## 6.3\n"
   ]
  },
  {
   "cell_type": "code",
   "execution_count": 81,
   "id": "a5916550",
   "metadata": {},
   "outputs": [],
   "source": [
    "c_std = 2.97e+5\n",
    "N_std = 12\n",
    "k = 6\n",
    "cutoff = c_std*np.exp((1-k)*N_std/2)"
   ]
  },
  {
   "cell_type": "code",
   "execution_count": 82,
   "id": "f8e78ef6",
   "metadata": {},
   "outputs": [],
   "source": [
    "ss = random_so_char_poly(24,cutoff, sample=10000 )\n",
    "df_angles = pd.DataFrame(ss, columns=['angles'])\n",
    "df_angles[\"Normalized lowest eigenvalue\"] = df_angles[\"angles\"]/np.mean(df_angles[\"angles\"])"
   ]
  },
  {
   "cell_type": "code",
   "execution_count": 83,
   "id": "f9b3e39e",
   "metadata": {},
   "outputs": [],
   "source": [
    "df_zeros = pd.read_csv(\"../data/experiment_3.6.out\", names=['disc','zero_1','zero_2'], index_col=False)\n",
    "\n",
    "def format_to_float(xx):\n",
    "    xx = xx.replace(\" \",\"\")\n",
    "    return float(xx)\n",
    "\n",
    "df_zeros[\"zero_1\"] = df_zeros[\"zero_1\"].apply(format_to_float)\n",
    "\n",
    "df_zeros = df_zeros.loc[df_zeros[\"zero_1\"] > 0 ]\n",
    "df_zeros[\"Normalized lowest first zero\"] = df_zeros[\"zero_1\"]/np.mean(df_zeros[\"zero_1\"])"
   ]
  },
  {
   "cell_type": "code",
   "execution_count": 86,
   "id": "1f8936ef",
   "metadata": {},
   "outputs": [
    {
     "data": {
      "image/png": "[encoded data removed]",
      "text/plain": [
       "<Figure size 432x288 with 3 Axes>"
      ]
     },
     "metadata": {
      "needs_background": "light"
     },
     "output_type": "display_data"
    }
   ],
   "source": [
    "fig, axs = plt.subplots(3, 1, tight_layout=True)\n",
    "\n",
    "n_bins=20\n",
    "\n",
    "dist1 = df_zeros[\"Normalized lowest first zero\"]\n",
    "dist2 = df_angles[\"Normalized lowest eigenvalue\"]\n",
    "dist3 = df_angles_no_cutoff[\"Normalized lowest eigenvalue\"]\n",
    "\n",
    "axs[0].hist(dist1, bins=n_bins*2, density=True)\n",
    "axs[1].hist(dist2, bins=n_bins, density=True)\n",
    "axs[2].hist(dist3, bins=n_bins, density=True)\n",
    "\n",
    "\n",
    "axs[0].set_xlabel('Lowest positive zero')\n",
    "axs[1].set_xlabel('Lowest positive eigenvalue above cutoff')\n",
    "axs[2].set_xlabel('Lowest positive eigenvalue without cutoff')\n",
    "\n",
    "\n",
    "axs[0].set_xlim(0,5)\n",
    "axs[1].set_xlim(0,5)\n",
    "axs[2].set_xlim(0,5)\n",
    "\n",
    "\n",
    "plt.savefig(\"/home/ncr006/research/rmt-families/paper/images/cutoff_3_6.png\")"
   ]
  },
  {
   "cell_type": "markdown",
   "id": "e91267c2",
   "metadata": {},
   "source": [
    "## 8.3"
   ]
  },
  {
   "cell_type": "code",
   "execution_count": 87,
   "id": "ee251fe5",
   "metadata": {},
   "outputs": [],
   "source": [
    "c_std = 7.08e+14\n",
    "N_std = 12\n",
    "k = 8\n",
    "cutoff = c_std*np.exp((1-k)*N_std/2)"
   ]
  },
  {
   "cell_type": "code",
   "execution_count": 88,
   "id": "1a87a551",
   "metadata": {},
   "outputs": [],
   "source": [
    "ss = random_so_char_poly(24,cutoff, sample=10000 )\n",
    "df_angles = pd.DataFrame(ss, columns=['angles'])\n",
    "df_angles[\"Normalized lowest eigenvalue\"] = df_angles[\"angles\"]/np.mean(df_angles[\"angles\"])"
   ]
  },
  {
   "cell_type": "code",
   "execution_count": 94,
   "id": "e0a6e88e",
   "metadata": {},
   "outputs": [],
   "source": [
    "df_zeros = pd.read_csv(\"../data/experiment_3.8.out\", names=['disc','zero_1','zero_2'], index_col=False)\n",
    "\n",
    "def format_to_float(xx):\n",
    "    xx = xx.replace(\" \",\"\")\n",
    "    return float(xx)\n",
    "\n",
    "df_zeros[\"zero_1\"] = df_zeros[\"zero_1\"].apply(format_to_float)\n",
    "\n",
    "df_zeros = df_zeros.loc[df_zeros[\"zero_1\"] > 0 ]\n",
    "df_zeros[\"Normalized lowest first zero\"] = df_zeros[\"zero_1\"]/np.mean(df_zeros[\"zero_1\"])"
   ]
  },
  {
   "cell_type": "code",
   "execution_count": 95,
   "id": "9cdf00cb",
   "metadata": {},
   "outputs": [
    {
     "data": {
      "image/png": "[encoded data removed]",
      "text/plain": [
       "<Figure size 432x288 with 3 Axes>"
      ]
     },
     "metadata": {
      "needs_background": "light"
     },
     "output_type": "display_data"
    }
   ],
   "source": [
    "fig, axs = plt.subplots(3, 1, tight_layout=True)\n",
    "\n",
    "n_bins=20\n",
    "\n",
    "dist1 = df_zeros[\"Normalized lowest first zero\"]\n",
    "dist2 = df_angles[\"Normalized lowest eigenvalue\"]\n",
    "dist3 = df_angles_no_cutoff[\"Normalized lowest eigenvalue\"]\n",
    "\n",
    "axs[0].hist(dist1, bins=n_bins+10, density=True)\n",
    "axs[1].hist(dist2, bins=n_bins, density=True)\n",
    "axs[2].hist(dist3, bins=n_bins, density=True)\n",
    "\n",
    "\n",
    "axs[0].set_xlabel('Lowest positive zero')\n",
    "axs[1].set_xlabel('Lowest positive eigenvalue above cutoff')\n",
    "axs[2].set_xlabel('Lowest positive eigenvalue without cutoff')\n",
    "\n",
    "\n",
    "axs[0].set_xlim(0,5)\n",
    "axs[1].set_xlim(0,5)\n",
    "axs[2].set_xlim(0,5)\n",
    "\n",
    "\n",
    "plt.savefig(\"/home/ncr006/research/rmt-families/paper/images/cutoff_3_8.png\")"
   ]
  },
  {
   "cell_type": "code",
   "execution_count": null,
   "id": "baea60e7",
   "metadata": {},
   "outputs": [],
   "source": []
  }
 ],
 "metadata": {
  "kernelspec": {
   "display_name": "Python 3 (ipykernel)",
   "language": "python",
   "name": "python3"
  },
  "language_info": {
   "codemirror_mode": {
    "name": "ipython",
    "version": 3
   },
   "file_extension": ".py",
   "mimetype": "text/x-python",
   "name": "python",
   "nbconvert_exporter": "python",
   "pygments_lexer": "ipython3",
   "version": "3.8.12"
  }
 },
 "nbformat": 4,
 "nbformat_minor": 5
}
